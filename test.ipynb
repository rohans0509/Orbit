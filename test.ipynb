{
 "cells": [
  {
   "cell_type": "code",
   "execution_count": 5,
   "metadata": {},
   "outputs": [
    {
     "data": {
      "text/plain": [
       "True"
      ]
     },
     "execution_count": 5,
     "metadata": {},
     "output_type": "execute_result"
    }
   ],
   "source": [
    "from Orbit import Flow, Agent, Route,save_code\n",
    "from dotenv import load_dotenv\n",
    "\n",
    "load_dotenv()"
   ]
  },
  {
   "cell_type": "code",
   "execution_count": 6,
   "metadata": {},
   "outputs": [],
   "source": [
    "with open(\"example.txt\",\"r\") as f:\n",
    "    example=f.read()\n",
    "\n",
    "flow_manager_prompt = f\"\"\"\n",
    "You are a professional AI agent creator. The user will give you a prompt, give an agent implementation. Only give code not explanation. This is an example {example}\n",
    "\"\"\"\n",
    "\n",
    "flow_printer_prompt = f\"\"\"\n",
    "You are a professional graph printer. The previous user will give you a flow. Draw it.\n",
    "\"\"\""
   ]
  },
  {
   "cell_type": "code",
   "execution_count": 7,
   "metadata": {},
   "outputs": [],
   "source": [
    "# Create specific agents with names\n",
    "flow_manager = Agent(\"flow_manager\", flow_manager_prompt,llm_model=\"gemini-1.5-pro-latest\", input_keys=[\"query\"],output_key=\"flow\")\n",
    "flow_printer = Agent(\"flow_printer\", flow_printer_prompt,llm_model=\"gemini-1.5-pro-latest\", input_keys=[\"flow\"],output_key=\"flow_print\")\n",
    "\n",
    "\n",
    "# Set route logic for flow_manager\n",
    "\n",
    "\n",
    "# Create the graph and add nodes\n",
    "flow = Flow(\"MyGraph\")\n",
    "flow.add_agents([flow_manager,flow_printer])\n",
    "flow.add_routes([Route(\"flow_manager\",[\"flow_printer\"])])\n",
    "\n",
    "\n",
    "# Set the entry point of the flow\n",
    "flow.set_entry_point(\"flow_manager\")\n",
    "\n",
    "# Compile flow\n",
    "flow.compile()\n",
    "\n",
    "# Save the flow configuration\n",
    "flow.save_flow(\"Saves/flow.yaml\")\n",
    "\n",
    "# Load the flow configuration from a file\n",
    "# loaded_flow = Flow.load_flow(\"Saves/flow.yaml\")"
   ]
  },
  {
   "cell_type": "code",
   "execution_count": 8,
   "metadata": {},
   "outputs": [
    {
     "name": "stdout",
     "output_type": "stream",
     "text": [
      "['\\nYou are a professional AI agent creator. The user will give you a prompt, give an agent implementation. Only give code not explanation. This is an example \\nfrom Orbit import Flow, Agent, Route\\nfrom dotenv import load_dotenv\\n\\nload_dotenv()\\n\\n# Create specific agents with names\\nemail_summariser = Agent(\"email_summariser\", email_summariser_prompt,llm_model=\"gemini-1.5-pro-latest\", input_keys=[\"email\"],output_key=\"summary\")\\nemail_responder = Agent(\"email_responder\",  email_responder_prompt,llm_model=\"gemini-1.5-pro-latest\",input_keys=[\"email\"],output_key=\"response\")\\nemail_classifier = Agent(\"email_classifier\",  email_classifier_prompt,llm_model=\"gemini-1.5-pro-latest\",input_keys=[\"email\"],output_key=\"class\")\\n\\n# Set route logic for email_classifier\\nemail_classifier_route_logic = {\\n    \"Personal\": \"email_summariser\",\\n    \"Work\": \"email_responder\",\\n    \"Promotional\": \"email_summariser\",\\n    \"Social\": \"email_responder\",\\n}\\n\\n# Create the graph and add nodes\\nflow = Flow(\"GraphName\")\\nflow.add_agents([email_summariser, email_responder, email_classifier])\\nflow.add_routes([Route(\"email_classifier\",[\"email_responder\",\"email_summariser\"], email_classifier_route_logic)])\\n\\n# Set the entry point of the flow\\nflow.set_entry_point(\"email_classifier\")\\n\\n# Compile flow\\nflow.compile()\\n\\n# Save the flow configuration\\nflow.save_flow(\"Saves/GraphName/flow.yaml\")\\n\\n# Load the flow configuration from a file\\nloaded_flow = Flow.load_flow(\"Saves/GraphName/flow.yaml\")\\n\\n# Sample email\\nsample_email = \"Hi, the kids are doing well Jan! Best, John\"\\ninitial_state = {\"email\": sample_email}\\n\\n# Run the graph\\nfinal_state = flow.run(initial_state)\\n', '{\\'query\\': \"Create a flow that uses spotify\\'s api to suggest songs. You can define your own helper functions to be filled in by the user.\"}']\n",
      "flow_manager\n",
      "flow_printer\n",
      "['\\nYou are a professional graph printer. The previous user will give you a flow. Draw it.\\n', '{\\'flow\\': \\'```python\\\\nfrom typing import List\\\\nfrom Orbit import Flow, Agent, Route\\\\nfrom dotenv import load_dotenv\\\\n\\\\nload_dotenv()\\\\n\\\\n# TODO: Define get_user_listening_history(user_id: str) -> List[str]:\\\\n# Function to retrieve user\\\\\\'s listening history from Spotify API. \\\\n# Should return a list of track IDs.\\\\n\\\\n# TODO: Define get_track_features(track_ids: List[str]) -> List[dict]:\\\\n# Function to retrieve audio features for a list of track IDs from Spotify API.\\\\n\\\\n# TODO: Define get_song_recommendations(track_features: List[dict], num_recommendations: int) -> List[str]:\\\\n# Function to generate song recommendations based on provided track features, \\\\n# potentially using a machine learning model. \\\\n# Should return a list of track IDs.\\\\n\\\\nget_recommendations_agent = Agent(\\\\n    \"get_recommendations_agent\", \\\\n    \"\"\"\\\\n    ```tool_code\\\\n    print(get_song_recommendations(track_features=input[\\\\\\'track_features\\\\\\'], num_recommendations=5))\\\\n    ```\"\"\", \\\\n    input_keys=[\"track_features\"],\\\\n    output_key=\"recommendations\"\\\\n)\\\\nget_track_features_agent = Agent(\\\\n    \"get_track_features_agent\",\\\\n    \"\"\"\\\\n    ```tool_code\\\\n    print(get_track_features(track_ids=input[\\\\\\'listening_history\\\\\\']))\\\\n    ```\"\"\",\\\\n    input_keys=[\"listening_history\"],\\\\n    output_key=\"track_features\"\\\\n)\\\\nget_user_listening_history_agent = Agent(\\\\n    \"get_user_listening_history\",\\\\n    \"\"\"\\\\n    ```tool_code\\\\n    print(get_user_listening_history(user_id=\\\\\\'your_user_id\\\\\\'))\\\\n    ```\"\"\",\\\\n    output_key=\"listening_history\"\\\\n)\\\\n\\\\nflow = Flow(\"SpotifySongRecommendationFlow\")\\\\nflow.add_agents([get_recommendations_agent, get_track_features_agent, get_user_listening_history_agent])\\\\nflow.add_routes([\\\\n    Route(\"get_user_listening_history\", \"get_track_features_agent\", output_key=\"listening_history\"),\\\\n    Route(\"get_track_features_agent\", \"get_recommendations_agent\", output_key=\"track_features\")\\\\n])\\\\n\\\\nflow.set_entry_point(\"get_user_listening_history\")\\\\nflow.compile()\\\\nflow.save_flow(\"Saves/SpotifySongRecommendationFlow/flow.yaml\")\\\\n\\\\nloaded_flow = Flow.load_flow(\"Saves/SpotifySongRecommendationFlow/flow.yaml\")\\\\n\\\\nfinal_state = loaded_flow.run()\\\\n```\\'}']\n",
      "flow_printer\n",
      "Assuming we reached end at flow_printer\n",
      "Final State after processing:\n",
      "flow: \"```python\\nfrom typing import List\\nfrom Orbit import Flow, Agent, Route\\n\\\n",
      "  from dotenv import load_dotenv\\n\\nload_dotenv()\\n\\n# TODO: Define get_user_listening_history(user_id:\\\n",
      "  \\ str) -> List[str]:\\n# Function to retrieve user's listening history from Spotify\\\n",
      "  \\ API. \\n# Should return a list of track IDs.\\n\\n# TODO: Define get_track_features(track_ids:\\\n",
      "  \\ List[str]) -> List[dict]:\\n# Function to retrieve audio features for a list of\\\n",
      "  \\ track IDs from Spotify API.\\n\\n# TODO: Define get_song_recommendations(track_features:\\\n",
      "  \\ List[dict], num_recommendations: int) -> List[str]:\\n# Function to generate song\\\n",
      "  \\ recommendations based on provided track features, \\n# potentially using a machine\\\n",
      "  \\ learning model. \\n# Should return a list of track IDs.\\n\\nget_recommendations_agent\\\n",
      "  \\ = Agent(\\n    \\\"get_recommendations_agent\\\", \\n    \\\"\\\"\\\"\\n    ```tool_code\\n\\\n",
      "  \\    print(get_song_recommendations(track_features=input['track_features'], num_recommendations=5))\\n\\\n",
      "  \\    ```\\\"\\\"\\\", \\n    input_keys=[\\\"track_features\\\"],\\n    output_key=\\\"recommendations\\\"\\\n",
      "  \\n)\\nget_track_features_agent = Agent(\\n    \\\"get_track_features_agent\\\",\\n    \\\"\\\n",
      "  \\\"\\\"\\n    ```tool_code\\n    print(get_track_features(track_ids=input['listening_history']))\\n\\\n",
      "  \\    ```\\\"\\\"\\\",\\n    input_keys=[\\\"listening_history\\\"],\\n    output_key=\\\"track_features\\\"\\\n",
      "  \\n)\\nget_user_listening_history_agent = Agent(\\n    \\\"get_user_listening_history\\\"\\\n",
      "  ,\\n    \\\"\\\"\\\"\\n    ```tool_code\\n    print(get_user_listening_history(user_id='your_user_id'))\\n\\\n",
      "  \\    ```\\\"\\\"\\\",\\n    output_key=\\\"listening_history\\\"\\n)\\n\\nflow = Flow(\\\"SpotifySongRecommendationFlow\\\"\\\n",
      "  )\\nflow.add_agents([get_recommendations_agent, get_track_features_agent, get_user_listening_history_agent])\\n\\\n",
      "  flow.add_routes([\\n    Route(\\\"get_user_listening_history\\\", \\\"get_track_features_agent\\\"\\\n",
      "  , output_key=\\\"listening_history\\\"),\\n    Route(\\\"get_track_features_agent\\\", \\\"\\\n",
      "  get_recommendations_agent\\\", output_key=\\\"track_features\\\")\\n])\\n\\nflow.set_entry_point(\\\"\\\n",
      "  get_user_listening_history\\\")\\nflow.compile()\\nflow.save_flow(\\\"Saves/SpotifySongRecommendationFlow/flow.yaml\\\"\\\n",
      "  )\\n\\nloaded_flow = Flow.load_flow(\\\"Saves/SpotifySongRecommendationFlow/flow.yaml\\\"\\\n",
      "  )\\n\\nfinal_state = loaded_flow.run()\\n```\"\n",
      "flow_print: \"```mermaid\\ngraph LR\\n  A[get_user_listening_history] --> B{get_track_features_agent};\\n\\\n",
      "  \\  B --> C{get_recommendations_agent};\\n\\n  subgraph \\\" \\\"\\n    A[\\\"get_user_listening_history\\\"\\\n",
      "  ]\\n    B[\\\"get_track_features_agent\\\"]\\n    C[\\\"get_recommendations_agent\\\"]\\n \\\n",
      "  \\ end\\n```\"\n",
      "query: Create a flow that uses spotify's api to suggest songs. You can define your\n",
      "  own helper functions to be filled in by the user.\n",
      "\n"
     ]
    },
    {
     "data": {
      "text/plain": [
       "'```mermaid\\ngraph LR\\n  A[get_user_listening_history] --> B{get_track_features_agent};\\n  B --> C{get_recommendations_agent};\\n\\n  subgraph \" \"\\n    A[\"get_user_listening_history\"]\\n    B[\"get_track_features_agent\"]\\n    C[\"get_recommendations_agent\"]\\n  end\\n```'"
      ]
     },
     "execution_count": 8,
     "metadata": {},
     "output_type": "execute_result"
    }
   ],
   "source": [
    "# Sample email\n",
    "query = \"Create a flow that uses spotify's api to suggest songs. You can define your own helper functions to be filled in by the user.\"\n",
    "initial_state = {\"query\": query}\n",
    "\n",
    "# Run the graph\n",
    "final_state = flow.run(initial_state)\n",
    "\n",
    "# Save code\n",
    "save_code(final_state[\"flow\"],\"Saves/flow_code.py\")\n",
    "\n",
    "final_state[\"flow_print\"]"
   ]
  },
  {
   "cell_type": "code",
   "execution_count": 9,
   "metadata": {},
   "outputs": [
    {
     "data": {
      "text/plain": [
       "'```mermaid\\ngraph LR\\n  A[get_user_listening_history] --> B{get_track_features_agent};\\n  B --> C{get_recommendations_agent};\\n\\n  subgraph \" \"\\n    A[\"get_user_listening_history\"]\\n    B[\"get_track_features_agent\"]\\n    C[\"get_recommendations_agent\"]\\n  end\\n```'"
      ]
     },
     "execution_count": 9,
     "metadata": {},
     "output_type": "execute_result"
    }
   ],
   "source": [
    "final_state[\"flow_print\"]"
   ]
  }
 ],
 "metadata": {
  "kernelspec": {
   "display_name": "Python 3",
   "language": "python",
   "name": "python3"
  },
  "language_info": {
   "codemirror_mode": {
    "name": "ipython",
    "version": 3
   },
   "file_extension": ".py",
   "mimetype": "text/x-python",
   "name": "python",
   "nbconvert_exporter": "python",
   "pygments_lexer": "ipython3",
   "version": "3.11.9"
  }
 },
 "nbformat": 4,
 "nbformat_minor": 2
}
